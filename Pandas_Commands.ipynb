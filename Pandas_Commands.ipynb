{
 "cells": [
  {
   "cell_type": "code",
   "execution_count": null,
   "metadata": {},
   "outputs": [],
   "source": [
    "#Importing Libraries and Dependencies\n",
    "import pandas as pd\n",
    "from pathlib import Path\n",
    "%matplotlib inline"
   ]
  },
  {
   "cell_type": "code",
   "execution_count": null,
   "metadata": {},
   "outputs": [],
   "source": [
    "#Creating the File Path\n",
    "csvpath = Path(\"file\")"
   ]
  },
  {
   "cell_type": "code",
   "execution_count": null,
   "metadata": {},
   "outputs": [],
   "source": [
    "#Reading a CSV\n",
    "df = pd.read_csv(csvpath)\n",
    "#Without a Header\n",
    "df = pd.read_csv(csvpath, header=None)"
   ]
  },
  {
   "cell_type": "code",
   "execution_count": null,
   "metadata": {},
   "outputs": [],
   "source": [
    "##Looking at the Data\n",
    "#-----Think of () as specifiers-----\n",
    "\n",
    "#Looking at the Beginning/End Values\n",
    "df.head()\n",
    "df.tail()\n",
    "\n",
    "#Generate Summary Statistics.....option to (include='all') or specify inclusion\n",
    "df.describe()\n",
    "\n",
    "#Reading Columns\n",
    "df.columns\n",
    "\n",
    "#Generate a Random Sample\n",
    "df.sample()\n",
    "\n",
    "#Identify Data Types\n",
    "df.dtypes\n",
    "\n",
    "#Counting\n",
    "df.count()\n",
    "\n",
    "#Assigning Ranks to Entries\n",
    "df.rank()\n",
    "\n",
    "#Identifying frequency values\n",
    "df['column'].value_counts()\n",
    "\n",
    "#Sorting\n",
    "df.sort_index()\n",
    "\n",
    "#Checking for null\n",
    "df.isnull()\n",
    "\n",
    "#Determining number of nulls\n",
    "df.isnull().sum()\n",
    "\n",
    "# Checking duplicates\n",
    "df.duplicated()\n",
    "\n",
    "# Checking duplicates for specific field\n",
    "csv_data['column'].duplicated()\n",
    "\n",
    "##Summary Functions\n",
    "df.sum()\n",
    "df.count()\n",
    "df.min()\n",
    "df.max()\n",
    "df.median()\n",
    "df.mean()\n",
    "df.var()#variance\n",
    "df.std()#standard deviation"
   ]
  },
  {
   "cell_type": "code",
   "execution_count": null,
   "metadata": {},
   "outputs": [],
   "source": [
    "##Working with Columns/Rows\n",
    "\n",
    "#Rewriting Columns\n",
    "columns = [\"Col1\", \"Col2\", \"Col3\"]#can re-write by changing the order\n",
    "df.columns = columns\n",
    "df.rename(columns={'old_variable1':'new_variable1','old_variable2':'new_variable2'})\n",
    "\n",
    "#Dropping Columns\n",
    "df.drop(columns=['Col1', 'COl2'])#specify inplace=True\n",
    "\n",
    "#Creating Columns\n",
    "df[\"new_column_name\"] = df[\"manipulated_column\"] / 1000\n",
    "\n",
    "#Order Rows by Values of Columns\n",
    "df.sort_values('Col')#low to high\n",
    "df.sort_values('Col', ascending=False)#high to low\n",
    "\n",
    "#Splitting Columns\n",
    "new_variable=df[\"column_to_split\"].str.split(\" \", expand=True)\n",
    "\n",
    "#Indexing \n",
    "df.iloc[row specifications: column specifications]\n",
    "df.loc['column']#or other specification\n",
    "\n",
    "#Extract Rows that meet Logical Criteria\n",
    "df[df.specifier]#ex. Length >7"
   ]
  },
  {
   "cell_type": "code",
   "execution_count": null,
   "metadata": {},
   "outputs": [],
   "source": [
    "##Manipulating Data\n",
    "\n",
    "#Cleanse nulls from DataFrame by filling na\n",
    "df['column'] = df['column'].fillna(\"Unknown\")\n",
    "\n",
    "#Cleansing duplicates\n",
    "df.drop_duplicates()\n",
    "\n",
    "# Converting Column to Specific Type\n",
    "df['column'] = df['column'].astype('type')\n",
    "\n",
    "# Filter rows based on a column value conditional\n",
    "df.loc[df['column'] == 'Conditional']"
   ]
  },
  {
   "cell_type": "code",
   "execution_count": null,
   "metadata": {},
   "outputs": [],
   "source": [
    "##Visualization\n",
    "\n",
    "#Plotting Data\n",
    "df.plot() #spefify (kind='bar', figsize=()etc...)"
   ]
  }
 ],
 "metadata": {
  "kernelspec": {
   "display_name": "Python 3",
   "language": "python",
   "name": "python3"
  },
  "language_info": {
   "codemirror_mode": {
    "name": "ipython",
    "version": 3
   },
   "file_extension": ".py",
   "mimetype": "text/x-python",
   "name": "python",
   "nbconvert_exporter": "python",
   "pygments_lexer": "ipython3",
   "version": "3.7.4"
  }
 },
 "nbformat": 4,
 "nbformat_minor": 4
}
